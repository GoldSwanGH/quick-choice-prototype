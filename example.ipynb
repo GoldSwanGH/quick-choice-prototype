{
 "cells": [
  {
   "cell_type": "code",
   "execution_count": null,
   "metadata": {
    "id": "6iUGz5c3XqSJ"
   },
   "outputs": [],
   "source": [
    "import pandas as pd\n",
    "from t_ordering import Criterion, Preference, DecisionModel"
   ]
  },
  {
   "cell_type": "code",
   "execution_count": null,
   "metadata": {
    "colab": {
     "base_uri": "https://localhost:8080/"
    },
    "id": "D8QbtufXUb6p",
    "outputId": "69febcfd-024d-46ec-fe1a-1ad90a5df049"
   },
   "outputs": [
    {
     "output_type": "stream",
     "name": "stdout",
     "text": [
      "Ошибка при создании модели решения: Обнаружен цикл в предпочтениях: Price = Brand Reputation -> Brand Reputation > Quality -> Quality > Price\n"
     ]
    }
   ],
   "source": [
    "# Пример использования:\n",
    "\n",
    "# Определение критериев\n",
    "price_criterion = Criterion(\n",
    "    name=\"Price\",\n",
    "    absolute=True,\n",
    "    maximize=False,\n",
    "    min_value=100,\n",
    "    max_value=1000,\n",
    ")\n",
    "\n",
    "quality_criterion = Criterion(\n",
    "    name=\"Quality\",\n",
    "    absolute=False,\n",
    "    maximize=True,\n",
    "    valid_values=[\"low\", \"medium\", \"high\"],  # Упорядоченные значения от худшего к лучшему\n",
    ")\n",
    "\n",
    "brand_reputation_criterion = Criterion(\n",
    "    name=\"Brand Reputation\",\n",
    "    absolute=False,\n",
    "    maximize=True,\n",
    "    valid_values=[\"unknown\", \"known\", \"famous\"],  # Упорядоченные значения от худшего к лучшему\n",
    ")\n",
    "\n",
    "criterion_1 = Criterion(\n",
    "    name=\"criterion1\",\n",
    "    absolute=True,\n",
    "    maximize=True,\n",
    "    min_value=0,\n",
    "    max_value=10000,\n",
    ")\n",
    "\n",
    "criterion_2 = Criterion(\n",
    "    name=\"criterion2\",\n",
    "    absolute=True,\n",
    "    maximize=True,\n",
    "    min_value=0,\n",
    "    max_value=1000,\n",
    ")\n",
    "\n",
    "criterion_3 = Criterion(\n",
    "    name=\"criterion3\",\n",
    "    absolute=True,\n",
    "    maximize=True,\n",
    "    min_value=0,\n",
    "    max_value=100000,\n",
    ")\n",
    "\n",
    "criteria_list = [price_criterion, quality_criterion, brand_reputation_criterion, criterion_1, criterion_2, criterion_3]\n",
    "\n",
    "# Создание DataFrame с альтернативами\n",
    "data = {\n",
    "    \"Alternative\": [\"Alternative A\", \"Alternative B\", \"Alternative C\"],\n",
    "    \"Price\": [500, 800, 300],\n",
    "    \"Quality\": [\"medium\", \"high\", \"low\"],\n",
    "    \"Brand Reputation\": [\"known\", \"famous\", \"unknown\"],\n",
    "    \"criterion1\": [100, 200, 300],\n",
    "    \"criterion2\": [150, 210, 340],\n",
    "    \"criterion3\": [120, 260, 370]\n",
    "}\n",
    "alternatives_df = pd.DataFrame(data)\n",
    "alternatives_df.set_index(\"Alternative\", inplace=True)\n",
    "\n",
    "# Обеспечение корректных типов данных\n",
    "alternatives_df[\"Price\"] = alternatives_df[\"Price\"].astype(float)\n",
    "alternatives_df[\"Quality\"] = alternatives_df[\"Quality\"].astype(str)\n",
    "alternatives_df[\"Brand Reputation\"] = alternatives_df[\"Brand Reputation\"].astype(str)\n",
    "alternatives_df[\"criterion1\"] = alternatives_df[\"criterion1\"].astype(float)\n",
    "alternatives_df[\"criterion2\"] = alternatives_df[\"criterion2\"].astype(float)\n",
    "alternatives_df[\"criterion3\"] = alternatives_df[\"criterion3\"].astype(float)\n",
    "\n",
    "# Определение предпочтений\n",
    "# Качество > Цена\n",
    "preference1 = Preference(\n",
    "    criterion1=quality_criterion,\n",
    "    criterion2=price_criterion,\n",
    "    equivalent=False  # Критерий \"Качество\" важнее критерия \"Цена\"\n",
    ")\n",
    "\n",
    "# Цена = Репутация бренда\n",
    "preference2 = Preference(\n",
    "    criterion1=price_criterion,\n",
    "    criterion2=brand_reputation_criterion,\n",
    "    equivalent=True  # Критерии эквивалентны\n",
    ")\n",
    "\n",
    "# Репутация бренда > Качество (для создания цикла)\n",
    "preference3 = Preference(\n",
    "    criterion1=brand_reputation_criterion,\n",
    "    criterion2=quality_criterion,\n",
    "    equivalent=False  # Критерий \"Репутация бренда\" важнее критерия \"Качество\"\n",
    ")\n",
    "\n",
    "preferences_list = [preference1, preference2, preference3]\n",
    "\n",
    "# Создание модели решения\n",
    "try:\n",
    "    decision_model = DecisionModel(criteria_list, alternatives_df, preferences_list)\n",
    "    print(decision_model)\n",
    "except ValueError as e:\n",
    "    print(f\"Ошибка при создании модели решения: {e}\")"
   ]
  },
  {
   "cell_type": "code",
   "execution_count": null,
   "metadata": {
    "colab": {
     "base_uri": "https://localhost:8080/"
    },
    "id": "SN0SzUU-lAh8",
    "outputId": "8fbe510d-68fd-4d20-d89f-58b9798fefed"
   },
   "outputs": [
    {
     "output_type": "stream",
     "name": "stdout",
     "text": [
      "DecisionModel:\n",
      "\n",
      "Критерии:\n",
      "Критерий 'Price':\n",
      "  Тип: Абсолютный\n",
      "  Цель: Минимизация\n",
      "  Минимальное значение: 100, Максимальное значение: 1000\n",
      "\n",
      "Критерий 'Quality':\n",
      "  Тип: Порядковый\n",
      "  Цель: Максимизация\n",
      "  Допустимые значения: ['low', 'medium', 'high']\n",
      "\n",
      "Критерий 'Brand Reputation':\n",
      "  Тип: Порядковый\n",
      "  Цель: Максимизация\n",
      "  Допустимые значения: ['unknown', 'known', 'famous']\n",
      "\n",
      "Критерий 'criterion1':\n",
      "  Тип: Абсолютный\n",
      "  Цель: Максимизация\n",
      "  Минимальное значение: 0, Максимальное значение: 10000\n",
      "\n",
      "Критерий 'criterion2':\n",
      "  Тип: Абсолютный\n",
      "  Цель: Максимизация\n",
      "  Минимальное значение: 0, Максимальное значение: 1000\n",
      "\n",
      "Критерий 'criterion3':\n",
      "  Тип: Абсолютный\n",
      "  Цель: Максимизация\n",
      "  Минимальное значение: 0, Максимальное значение: 100000\n",
      "\n",
      "\n",
      "Альтернативы:\n",
      "               Price Quality Brand Reputation  criterion1  criterion2  \\\n",
      "Alternative                                                             \n",
      "Alternative A  500.0  medium            known       100.0       150.0   \n",
      "Alternative B  800.0    high           famous       200.0       210.0   \n",
      "Alternative C  300.0     low          unknown       300.0       340.0   \n",
      "\n",
      "               criterion3  \n",
      "Alternative                \n",
      "Alternative A       120.0  \n",
      "Alternative B       260.0  \n",
      "Alternative C       370.0  \n",
      "\n",
      "Нормализованные альтернативы:\n",
      "                  Price  Quality  Brand Reputation  criterion1  criterion2  criterion3\n",
      "Alternative                                                                           \n",
      "Alternative A  0.555556      0.5               0.5        0.01        0.15      0.0012\n",
      "Alternative B  0.222222      1.0               1.0        0.02        0.21      0.0026\n",
      "Alternative C  0.777778      0.0               0.0        0.03        0.34      0.0037\n",
      "\n",
      "Предпочтения:\n",
      "Price > Quality\n",
      "Quality = Brand Reputation\n",
      "Quality = criterion1\n",
      "criterion1 = criterion2\n",
      "criterion2 = Quality\n",
      "criterion2 > criterion3\n",
      "\n"
     ]
    }
   ],
   "source": [
    "# Уберем цикл\n",
    "# Цена > Качество\n",
    "preference1 = Preference(\n",
    "    criterion1=price_criterion,\n",
    "    criterion2=quality_criterion,\n",
    "    equivalent=False  # Критерий \"Цена\" важнее критерия \"Качество\"\n",
    ")\n",
    "\n",
    "# Качество = Репутация бренда\n",
    "preference2 = Preference(\n",
    "    criterion1=quality_criterion,\n",
    "    criterion2=brand_reputation_criterion,\n",
    "    equivalent=True  # Критерии эквивалентны\n",
    ")\n",
    "\n",
    "preference3 = Preference(\n",
    "    criterion1=quality_criterion,\n",
    "    criterion2=criterion_1,\n",
    "    equivalent=True  # Критерии эквивалентны\n",
    ")\n",
    "\n",
    "preference4 = Preference(\n",
    "    criterion1=criterion_1,\n",
    "    criterion2=criterion_2,\n",
    "    equivalent=True  # Критерии эквивалентны\n",
    ")\n",
    "\n",
    "preference5 = Preference(\n",
    "    criterion1=criterion_2,\n",
    "    criterion2=quality_criterion,\n",
    "    equivalent=True\n",
    ")\n",
    "\n",
    "preference6 = Preference(\n",
    "    criterion1=criterion_2,\n",
    "    criterion2=criterion_3,\n",
    "    equivalent=False\n",
    ")\n",
    "\n",
    "preferences_list = [preference1, preference2, preference3, preference4, preference5, preference6]\n",
    "\n",
    "# Создание модели решения\n",
    "try:\n",
    "    decision_model = DecisionModel(criteria_list, alternatives_df, preferences_list)\n",
    "    print(decision_model)\n",
    "except ValueError as e:\n",
    "    print(f\"Ошибка при создании модели решения: {e}\")"
   ]
  },
  {
   "cell_type": "code",
   "execution_count": null,
   "metadata": {
    "colab": {
     "base_uri": "https://localhost:8080/"
    },
    "id": "JbILloZ_tcp_",
    "outputId": "23d8d768-8c1f-4efc-8ea4-906ae9b0cc5a"
   },
   "outputs": [
    {
     "output_type": "stream",
     "name": "stdout",
     "text": [
      "Найдено 3 альтернатив в множестве Парето.\n",
      "\n"
     ]
    }
   ],
   "source": [
    "# Находим множество Парето\n",
    "decision_model.find_pareto_front()"
   ]
  },
  {
   "cell_type": "code",
   "source": [
    "decision_model._get_equivalent_groups()"
   ],
   "metadata": {
    "colab": {
     "base_uri": "https://localhost:8080/"
    },
    "id": "6G6SnZlU2xIC",
    "outputId": "6e7f69e5-a372-41b6-ca7e-16dc996d0e98"
   },
   "execution_count": null,
   "outputs": [
    {
     "output_type": "execute_result",
     "data": {
      "text/plain": [
       "[{'Price'},\n",
       " {'Brand Reputation', 'Quality', 'criterion1', 'criterion2'},\n",
       " {'criterion3'}]"
      ]
     },
     "metadata": {},
     "execution_count": 358
    }
   ]
  },
  {
   "cell_type": "code",
   "source": [
    "decision_model._assign_importance_relations()"
   ],
   "metadata": {
    "colab": {
     "base_uri": "https://localhost:8080/"
    },
    "id": "WfbEuM5f4ZrL",
    "outputId": "db01b64c-c69e-4549-a9db-7ca4abc3bc02"
   },
   "execution_count": null,
   "outputs": [
    {
     "output_type": "stream",
     "name": "stdout",
     "text": [
      "Группы и их отношения важности (включая транзитивные):\n",
      "Группа [Price] -> более важные группы: Нет\n",
      "Группа [Quality, criterion2, criterion1, Brand Reputation] -> более важные группы: ['Price', 'Quality, criterion2, criterion1, Brand Reputation']\n",
      "Группа [criterion3] -> более важные группы: ['Quality, criterion2, criterion1, Brand Reputation', 'Price']\n",
      "\n",
      "\n"
     ]
    }
   ]
  },
  {
   "cell_type": "code",
   "source": [
    "# Apply t-ordering\n",
    "decision_model.t_ordering()\n",
    "\n",
    "# View the alternatives after t-ordering\n",
    "print(decision_model.pareto_t)\n"
   ],
   "metadata": {
    "colab": {
     "base_uri": "https://localhost:8080/"
    },
    "id": "uoTV0sFgR2V3",
    "outputId": "525c7951-7910-4a6b-90df-768073d01fc2"
   },
   "execution_count": null,
   "outputs": [
    {
     "output_type": "stream",
     "name": "stdout",
     "text": [
      "Группы и их отношения важности (включая транзитивные):\n",
      "Группа [Price] -> более важные группы: Нет\n",
      "Группа [Quality, criterion2, criterion1, Brand Reputation] -> более важные группы: ['Price', 'Quality, criterion2, criterion1, Brand Reputation']\n",
      "Группа [criterion3] -> более важные группы: ['Quality, criterion2, criterion1, Brand Reputation', 'Price']\n",
      "\n",
      "\n",
      "Количество альтернатив после t-упорядочивания: 3\n",
      "\n",
      "                  Price  Quality  Brand Reputation  criterion1  criterion2  \\\n",
      "Alternative                                                                  \n",
      "Alternative A  0.555556      0.5               0.5        0.01        0.15   \n",
      "Alternative B  0.222222      1.0               1.0        0.02        0.21   \n",
      "Alternative C  0.777778      0.0               0.0        0.03        0.34   \n",
      "\n",
      "               criterion3  \n",
      "Alternative                \n",
      "Alternative A      0.0012  \n",
      "Alternative B      0.0026  \n",
      "Alternative C      0.0037  \n"
     ]
    }
   ]
  },
  {
   "cell_type": "code",
   "source": [
    "# Пример 2:\n",
    "\n",
    "# Определение критериев\n",
    "\n",
    "criterion_1 = Criterion(\n",
    "    name=\"criterion1\",\n",
    "    absolute=True,\n",
    "    maximize=True,\n",
    "    min_value=0,\n",
    "    max_value=1,\n",
    ")\n",
    "\n",
    "criterion_2 = Criterion(\n",
    "    name=\"criterion2\",\n",
    "    absolute=True,\n",
    "    maximize=True,\n",
    "    min_value=0,\n",
    "    max_value=1,\n",
    ")\n",
    "\n",
    "criterion_3 = Criterion(\n",
    "    name=\"criterion3\",\n",
    "    absolute=True,\n",
    "    maximize=True,\n",
    "    min_value=0,\n",
    "    max_value=1,\n",
    ")\n",
    "\n",
    "criterion_4 = Criterion(\n",
    "    name=\"criterion4\",\n",
    "    absolute=True,\n",
    "    maximize=True,\n",
    "    min_value=0,\n",
    "    max_value=1,\n",
    ")\n",
    "\n",
    "criterion_5 = Criterion(\n",
    "    name=\"criterion5\",\n",
    "    absolute=True,\n",
    "    maximize=True,\n",
    "    min_value=0,\n",
    "    max_value=1,\n",
    ")\n",
    "\n",
    "criterion_6 = Criterion(\n",
    "    name=\"criterion6\",\n",
    "    absolute=True,\n",
    "    maximize=True,\n",
    "    min_value=0,\n",
    "    max_value=1,\n",
    ")\n",
    "\n",
    "criteria_list = [criterion_1, criterion_2, criterion_3, criterion_4, criterion_5, criterion_6]\n",
    "\n",
    "# Создание DataFrame с альтернативами\n",
    "#  A(0.4, 0.6, 0.4, 0.2, 0.1, 0.7)\n",
    "#  B(0.2, 0.8, 0.4, 0.3, 0.2, 0.5)\n",
    "#  C(0.2, 0.7, 0.5, 0.3, 0.2, 0.5)\n",
    "#  D(0.2, 0.7, 0.4, 0.3, 0.2, 0.4)\n",
    "data = {\n",
    "    \"Alternative\": [\"Alternative A\", \"Alternative B\", \"Alternative C\", \"Alternative D\"],\n",
    "    \"criterion1\": [0.4, 0.2, 0.2, 0.2],\n",
    "    \"criterion2\": [0.6, 0.8, 0.7, 0.7],\n",
    "    \"criterion3\": [0.4, 0.4, 0.5, 0.4],\n",
    "    \"criterion4\": [0.2, 0.3, 0.3, 0.3],\n",
    "    \"criterion5\": [0.1, 0.2, 0.2, 0.2],\n",
    "    \"criterion6\": [0.7, 0.5, 0.5, 0.4],\n",
    "}\n",
    "alternatives_df = pd.DataFrame(data)\n",
    "alternatives_df.set_index(\"Alternative\", inplace=True)\n",
    "\n",
    "# Обеспечение корректных типов данных\n",
    "alternatives_df[\"criterion1\"] = alternatives_df[\"criterion1\"].astype(float)\n",
    "alternatives_df[\"criterion2\"] = alternatives_df[\"criterion2\"].astype(float)\n",
    "alternatives_df[\"criterion3\"] = alternatives_df[\"criterion3\"].astype(float)\n",
    "alternatives_df[\"criterion4\"] = alternatives_df[\"criterion4\"].astype(float)\n",
    "alternatives_df[\"criterion5\"] = alternatives_df[\"criterion5\"].astype(float)\n",
    "alternatives_df[\"criterion6\"] = alternatives_df[\"criterion6\"].astype(float)\n",
    "\n",
    "# Определение предпочтений\n",
    "preference1 = Preference(\n",
    "    criterion1=criterion_2,\n",
    "    criterion2=criterion_3,\n",
    "    equivalent=True\n",
    ")\n",
    "\n",
    "preference2 = Preference(\n",
    "    criterion1=criterion_4,\n",
    "    criterion2=criterion_5,\n",
    "    equivalent=True\n",
    ")\n",
    "\n",
    "preference3 = Preference(\n",
    "    criterion1=criterion_5,\n",
    "    criterion2=criterion_6,\n",
    "    equivalent=True\n",
    ")\n",
    "\n",
    "preference4 = Preference(\n",
    "    criterion1=criterion_1,\n",
    "    criterion2=criterion_3,\n",
    "    equivalent=False\n",
    ")\n",
    "\n",
    "preferences_list = [preference1, preference2, preference3, preference4]\n",
    "# Создание модели решения\n",
    "try:\n",
    "    decision_model = DecisionModel(criteria_list, alternatives_df, preferences_list)\n",
    "    print(decision_model)\n",
    "except ValueError as e:\n",
    "    print(f\"Ошибка при создании модели решения: {e}\")"
   ],
   "metadata": {
    "colab": {
     "base_uri": "https://localhost:8080/"
    },
    "id": "et6PcegLTqvR",
    "outputId": "2d39500b-3caa-456d-eecb-54dbdea81a57"
   },
   "execution_count": null,
   "outputs": [
    {
     "output_type": "stream",
     "name": "stdout",
     "text": [
      "DecisionModel:\n",
      "\n",
      "Критерии:\n",
      "Критерий 'criterion1':\n",
      "  Тип: Абсолютный\n",
      "  Цель: Максимизация\n",
      "  Минимальное значение: 0, Максимальное значение: 1\n",
      "\n",
      "Критерий 'criterion2':\n",
      "  Тип: Абсолютный\n",
      "  Цель: Максимизация\n",
      "  Минимальное значение: 0, Максимальное значение: 1\n",
      "\n",
      "Критерий 'criterion3':\n",
      "  Тип: Абсолютный\n",
      "  Цель: Максимизация\n",
      "  Минимальное значение: 0, Максимальное значение: 1\n",
      "\n",
      "Критерий 'criterion4':\n",
      "  Тип: Абсолютный\n",
      "  Цель: Максимизация\n",
      "  Минимальное значение: 0, Максимальное значение: 1\n",
      "\n",
      "Критерий 'criterion5':\n",
      "  Тип: Абсолютный\n",
      "  Цель: Максимизация\n",
      "  Минимальное значение: 0, Максимальное значение: 1\n",
      "\n",
      "Критерий 'criterion6':\n",
      "  Тип: Абсолютный\n",
      "  Цель: Максимизация\n",
      "  Минимальное значение: 0, Максимальное значение: 1\n",
      "\n",
      "\n",
      "Альтернативы:\n",
      "               criterion1  criterion2  criterion3  criterion4  criterion5  \\\n",
      "Alternative                                                                 \n",
      "Alternative A         0.4         0.6         0.4         0.2         0.1   \n",
      "Alternative B         0.2         0.8         0.4         0.3         0.2   \n",
      "Alternative C         0.2         0.7         0.5         0.3         0.2   \n",
      "Alternative D         0.2         0.7         0.4         0.3         0.2   \n",
      "\n",
      "               criterion6  \n",
      "Alternative                \n",
      "Alternative A         0.7  \n",
      "Alternative B         0.5  \n",
      "Alternative C         0.5  \n",
      "Alternative D         0.4  \n",
      "\n",
      "Нормализованные альтернативы:\n",
      "               criterion1  criterion2  criterion3  criterion4  criterion5  criterion6\n",
      "Alternative                                                                          \n",
      "Alternative A         0.4         0.6         0.4         0.2         0.1         0.7\n",
      "Alternative B         0.2         0.8         0.4         0.3         0.2         0.5\n",
      "Alternative C         0.2         0.7         0.5         0.3         0.2         0.5\n",
      "Alternative D         0.2         0.7         0.4         0.3         0.2         0.4\n",
      "\n",
      "Предпочтения:\n",
      "criterion2 = criterion3\n",
      "criterion4 = criterion5\n",
      "criterion5 = criterion6\n",
      "criterion1 > criterion3\n",
      "\n"
     ]
    }
   ]
  },
  {
   "cell_type": "code",
   "source": [
    "# Находим множество Парето\n",
    "decision_model.find_pareto_front()\n",
    "\n",
    "print(decision_model.pareto_front)"
   ],
   "metadata": {
    "colab": {
     "base_uri": "https://localhost:8080/"
    },
    "id": "114tbPy4UFzb",
    "outputId": "fd41045f-7518-4662-91e0-322ad34c3894"
   },
   "execution_count": null,
   "outputs": [
    {
     "output_type": "stream",
     "name": "stdout",
     "text": [
      "Найдено 3 альтернатив в множестве Парето.\n",
      "\n",
      "               criterion1  criterion2  criterion3  criterion4  criterion5  \\\n",
      "Alternative                                                                 \n",
      "Alternative A         0.4         0.6         0.4         0.2         0.1   \n",
      "Alternative B         0.2         0.8         0.4         0.3         0.2   \n",
      "Alternative C         0.2         0.7         0.5         0.3         0.2   \n",
      "\n",
      "               criterion6  \n",
      "Alternative                \n",
      "Alternative A         0.7  \n",
      "Alternative B         0.5  \n",
      "Alternative C         0.5  \n"
     ]
    }
   ]
  },
  {
   "cell_type": "code",
   "source": [
    "decision_model._get_equivalent_groups()"
   ],
   "metadata": {
    "colab": {
     "base_uri": "https://localhost:8080/"
    },
    "id": "wS9WcuAXWGkp",
    "outputId": "bad1c8c3-270b-44a0-8acc-96dcce313447"
   },
   "execution_count": null,
   "outputs": [
    {
     "output_type": "execute_result",
     "data": {
      "text/plain": [
       "[{'criterion1'},\n",
       " {'criterion2', 'criterion3'},\n",
       " {'criterion4', 'criterion5', 'criterion6'}]"
      ]
     },
     "metadata": {},
     "execution_count": 363
    }
   ]
  },
  {
   "cell_type": "code",
   "source": [
    "decision_model._assign_importance_relations()"
   ],
   "metadata": {
    "colab": {
     "base_uri": "https://localhost:8080/"
    },
    "id": "kkYX3mJlWoFU",
    "outputId": "984bcff5-47d1-479b-d81e-cc6eed2fd9b7"
   },
   "execution_count": null,
   "outputs": [
    {
     "output_type": "stream",
     "name": "stdout",
     "text": [
      "Группы и их отношения важности (включая транзитивные):\n",
      "Группа [criterion1] -> более важные группы: Нет\n",
      "Группа [criterion2, criterion3] -> более важные группы: ['criterion1']\n",
      "Группа [criterion4, criterion5, criterion6] -> более важные группы: Нет\n",
      "\n",
      "\n"
     ]
    }
   ]
  },
  {
   "cell_type": "code",
   "source": [
    "# Apply t-ordering\n",
    "decision_model.t_ordering()\n",
    "\n",
    "# View the alternatives after t-ordering\n",
    "print(decision_model.pareto_t)"
   ],
   "metadata": {
    "colab": {
     "base_uri": "https://localhost:8080/"
    },
    "id": "wuyvOxUwWrhz",
    "outputId": "1ee99f52-4c50-4ae8-e859-932e1617b10a"
   },
   "execution_count": null,
   "outputs": [
    {
     "output_type": "stream",
     "name": "stdout",
     "text": [
      "Группы и их отношения важности (включая транзитивные):\n",
      "Группа [criterion1] -> более важные группы: Нет\n",
      "Группа [criterion2, criterion3] -> более важные группы: ['criterion1']\n",
      "Группа [criterion4, criterion5, criterion6] -> более важные группы: Нет\n",
      "\n",
      "\n",
      "Количество альтернатив после t-упорядочивания: 1\n",
      "\n",
      "               criterion1  criterion2  criterion3  criterion4  criterion5  \\\n",
      "Alternative                                                                 \n",
      "Alternative A         0.4         0.6         0.4         0.2         0.1   \n",
      "\n",
      "               criterion6  \n",
      "Alternative                \n",
      "Alternative A         0.7  \n"
     ]
    }
   ]
  },
  {
   "cell_type": "code",
   "source": [
    "# Пример 3: разъединенный граф важности групп критериев\n",
    "\n",
    "criterion_7 = Criterion(\n",
    "    name=\"criterion7\",\n",
    "    absolute=True,\n",
    "    maximize=True,\n",
    "    min_value=0,\n",
    "    max_value=1,\n",
    ")\n",
    "\n",
    "criteria_list = [criterion_1, criterion_2, criterion_3, criterion_4, criterion_5, criterion_6, criterion_7]\n",
    "\n",
    "# Создание DataFrame с альтернативами\n",
    "#  A(0.4, 0.6, 0.4, 0.2, 0.1, 0.7, 0.5)\n",
    "#  B(0.2, 0.8, 0.4, 0.2, 0.2, 0.1, 0.9)\n",
    "#  C(0.2, 0.7, 0.5, 0.3, 0.2, 0.5, 0.7)\n",
    "#  D(0.2, 0.7, 0.4, 0.3, 0.2, 0.4, 0.2)\n",
    "data = {\n",
    "    \"Alternative\": [\"Alternative A\", \"Alternative B\", \"Alternative C\", \"Alternative D\"],\n",
    "    \"criterion1\": [0.4, 0.2, 0.2, 0.2],\n",
    "    \"criterion2\": [0.6, 0.8, 0.7, 0.7],\n",
    "    \"criterion3\": [0.4, 0.4, 0.5, 0.4],\n",
    "    \"criterion4\": [0.2, 0.2, 0.3, 0.3],\n",
    "    \"criterion5\": [0.1, 0.2, 0.2, 0.2],\n",
    "    \"criterion6\": [0.7, 0.1, 0.5, 0.4],\n",
    "    \"criterion7\": [0.5, 0.9, 0.7, 0.2],\n",
    "}\n",
    "alternatives_df = pd.DataFrame(data)\n",
    "alternatives_df.set_index(\"Alternative\", inplace=True)\n",
    "\n",
    "# Обеспечение корректных типов данных\n",
    "alternatives_df[\"criterion1\"] = alternatives_df[\"criterion1\"].astype(float)\n",
    "alternatives_df[\"criterion2\"] = alternatives_df[\"criterion2\"].astype(float)\n",
    "alternatives_df[\"criterion3\"] = alternatives_df[\"criterion3\"].astype(float)\n",
    "alternatives_df[\"criterion4\"] = alternatives_df[\"criterion4\"].astype(float)\n",
    "alternatives_df[\"criterion5\"] = alternatives_df[\"criterion5\"].astype(float)\n",
    "alternatives_df[\"criterion6\"] = alternatives_df[\"criterion6\"].astype(float)\n",
    "alternatives_df[\"criterion7\"] = alternatives_df[\"criterion7\"].astype(float)\n",
    "\n",
    "preference5 = Preference(\n",
    "    criterion1=criterion_5,\n",
    "    criterion2=criterion_7,\n",
    "    equivalent=False\n",
    ")\n",
    "\n",
    "preferences_list = [preference1, preference2, preference3, preference4, preference5]\n",
    "# Создание модели решения\n",
    "try:\n",
    "    decision_model = DecisionModel(criteria_list, alternatives_df, preferences_list)\n",
    "    print(decision_model)\n",
    "except ValueError as e:\n",
    "    print(f\"Ошибка при создании модели решения: {e}\")"
   ],
   "metadata": {
    "colab": {
     "base_uri": "https://localhost:8080/"
    },
    "id": "o-dI6pvdEPPN",
    "outputId": "1a711ae4-c65e-442c-ee03-91ec7f7cf8bb"
   },
   "execution_count": null,
   "outputs": [
    {
     "output_type": "stream",
     "name": "stdout",
     "text": [
      "DecisionModel:\n",
      "\n",
      "Критерии:\n",
      "Критерий 'criterion1':\n",
      "  Тип: Абсолютный\n",
      "  Цель: Максимизация\n",
      "  Минимальное значение: 0, Максимальное значение: 1\n",
      "\n",
      "Критерий 'criterion2':\n",
      "  Тип: Абсолютный\n",
      "  Цель: Максимизация\n",
      "  Минимальное значение: 0, Максимальное значение: 1\n",
      "\n",
      "Критерий 'criterion3':\n",
      "  Тип: Абсолютный\n",
      "  Цель: Максимизация\n",
      "  Минимальное значение: 0, Максимальное значение: 1\n",
      "\n",
      "Критерий 'criterion4':\n",
      "  Тип: Абсолютный\n",
      "  Цель: Максимизация\n",
      "  Минимальное значение: 0, Максимальное значение: 1\n",
      "\n",
      "Критерий 'criterion5':\n",
      "  Тип: Абсолютный\n",
      "  Цель: Максимизация\n",
      "  Минимальное значение: 0, Максимальное значение: 1\n",
      "\n",
      "Критерий 'criterion6':\n",
      "  Тип: Абсолютный\n",
      "  Цель: Максимизация\n",
      "  Минимальное значение: 0, Максимальное значение: 1\n",
      "\n",
      "Критерий 'criterion7':\n",
      "  Тип: Абсолютный\n",
      "  Цель: Максимизация\n",
      "  Минимальное значение: 0, Максимальное значение: 1\n",
      "\n",
      "\n",
      "Альтернативы:\n",
      "               criterion1  criterion2  criterion3  criterion4  criterion5  \\\n",
      "Alternative                                                                 \n",
      "Alternative A         0.4         0.6         0.4         0.2         0.1   \n",
      "Alternative B         0.2         0.8         0.4         0.2         0.2   \n",
      "Alternative C         0.2         0.7         0.5         0.3         0.2   \n",
      "Alternative D         0.2         0.7         0.4         0.3         0.2   \n",
      "\n",
      "               criterion6  criterion7  \n",
      "Alternative                            \n",
      "Alternative A         0.7         0.5  \n",
      "Alternative B         0.1         0.9  \n",
      "Alternative C         0.5         0.7  \n",
      "Alternative D         0.4         0.2  \n",
      "\n",
      "Нормализованные альтернативы:\n",
      "               criterion1  criterion2  criterion3  criterion4  criterion5  criterion6  criterion7\n",
      "Alternative                                                                                      \n",
      "Alternative A         0.4         0.6         0.4         0.2         0.1         0.7         0.5\n",
      "Alternative B         0.2         0.8         0.4         0.2         0.2         0.1         0.9\n",
      "Alternative C         0.2         0.7         0.5         0.3         0.2         0.5         0.7\n",
      "Alternative D         0.2         0.7         0.4         0.3         0.2         0.4         0.2\n",
      "\n",
      "Предпочтения:\n",
      "criterion2 = criterion3\n",
      "criterion4 = criterion5\n",
      "criterion5 = criterion6\n",
      "criterion1 > criterion3\n",
      "criterion5 > criterion7\n",
      "\n"
     ]
    }
   ]
  },
  {
   "cell_type": "code",
   "source": [
    "# Находим множество Парето\n",
    "decision_model.find_pareto_front()\n",
    "\n",
    "print(decision_model.pareto_front)"
   ],
   "metadata": {
    "colab": {
     "base_uri": "https://localhost:8080/"
    },
    "id": "zj09asb0Nla9",
    "outputId": "32241f6b-b5ab-4a3f-b282-e442890f909e"
   },
   "execution_count": null,
   "outputs": [
    {
     "output_type": "stream",
     "name": "stdout",
     "text": [
      "Найдено 3 альтернатив в множестве Парето.\n",
      "\n",
      "               criterion1  criterion2  criterion3  criterion4  criterion5  \\\n",
      "Alternative                                                                 \n",
      "Alternative A         0.4         0.6         0.4         0.2         0.1   \n",
      "Alternative B         0.2         0.8         0.4         0.2         0.2   \n",
      "Alternative C         0.2         0.7         0.5         0.3         0.2   \n",
      "\n",
      "               criterion6  criterion7  \n",
      "Alternative                            \n",
      "Alternative A         0.7         0.5  \n",
      "Alternative B         0.1         0.9  \n",
      "Alternative C         0.5         0.7  \n"
     ]
    }
   ]
  },
  {
   "cell_type": "code",
   "source": [
    "decision_model._get_equivalent_groups()"
   ],
   "metadata": {
    "colab": {
     "base_uri": "https://localhost:8080/"
    },
    "id": "bD7xCVmqNm0e",
    "outputId": "9b2136f8-65cd-4be2-8beb-7b888d232863"
   },
   "execution_count": null,
   "outputs": [
    {
     "output_type": "execute_result",
     "data": {
      "text/plain": [
       "[{'criterion1'},\n",
       " {'criterion2', 'criterion3'},\n",
       " {'criterion4', 'criterion5', 'criterion6'},\n",
       " {'criterion7'}]"
      ]
     },
     "metadata": {},
     "execution_count": 368
    }
   ]
  },
  {
   "cell_type": "code",
   "source": [
    "decision_model._assign_importance_relations()"
   ],
   "metadata": {
    "colab": {
     "base_uri": "https://localhost:8080/"
    },
    "id": "COTGRDtzNqbR",
    "outputId": "b7603f27-fc54-484d-f760-e3009745da68"
   },
   "execution_count": null,
   "outputs": [
    {
     "output_type": "stream",
     "name": "stdout",
     "text": [
      "Группы и их отношения важности (включая транзитивные):\n",
      "Группа [criterion1] -> более важные группы: Нет\n",
      "Группа [criterion2, criterion3] -> более важные группы: ['criterion1']\n",
      "Группа [criterion4, criterion5, criterion6] -> более важные группы: Нет\n",
      "Группа [criterion7] -> более важные группы: ['criterion4, criterion5, criterion6']\n",
      "\n",
      "\n"
     ]
    }
   ]
  },
  {
   "cell_type": "code",
   "source": [
    "# Apply t-ordering\n",
    "decision_model.t_ordering()\n",
    "\n",
    "# View the alternatives after t-ordering\n",
    "print(decision_model.pareto_t)"
   ],
   "metadata": {
    "colab": {
     "base_uri": "https://localhost:8080/"
    },
    "id": "c2o3fc3RN8sE",
    "outputId": "ca4c3ed8-bdc1-421d-e846-ef03f96a795d"
   },
   "execution_count": null,
   "outputs": [
    {
     "output_type": "stream",
     "name": "stdout",
     "text": [
      "Группы и их отношения важности (включая транзитивные):\n",
      "Группа [criterion1] -> более важные группы: Нет\n",
      "Группа [criterion2, criterion3] -> более важные группы: ['criterion1']\n",
      "Группа [criterion4, criterion5, criterion6] -> более важные группы: Нет\n",
      "Группа [criterion7] -> более важные группы: ['criterion4, criterion5, criterion6']\n",
      "\n",
      "\n",
      "Количество альтернатив после t-упорядочивания: 2\n",
      "\n",
      "               criterion1  criterion2  criterion3  criterion4  criterion5  \\\n",
      "Alternative                                                                 \n",
      "Alternative A         0.4         0.6         0.4         0.2         0.1   \n",
      "Alternative C         0.2         0.7         0.5         0.3         0.2   \n",
      "\n",
      "               criterion6  criterion7  \n",
      "Alternative                            \n",
      "Alternative A         0.7         0.5  \n",
      "Alternative C         0.5         0.7  \n"
     ]
    }
   ]
  }
 ],
 "metadata": {
  "colab": {
   "provenance": []
  },
  "kernelspec": {
   "display_name": "Python 3",
   "name": "python3"
  },
  "language_info": {
   "name": "python"
  }
 },
 "nbformat": 4,
 "nbformat_minor": 0
}
